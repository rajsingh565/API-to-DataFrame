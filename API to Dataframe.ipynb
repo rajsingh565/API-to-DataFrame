{
 "cells": [
  {
   "cell_type": "markdown",
   "id": "71a791ef",
   "metadata": {},
   "source": [
    "# 1.Importing the Necessary Libraries "
   ]
  },
  {
   "cell_type": "code",
   "execution_count": 26,
   "id": "5bedd511",
   "metadata": {},
   "outputs": [],
   "source": [
    "import requests\n",
    "import pandas as pd\n"
   ]
  },
  {
   "cell_type": "markdown",
   "id": "4f481abb",
   "metadata": {},
   "source": [
    "# 2.Define the API Endpoint"
   ]
  },
  {
   "cell_type": "code",
   "execution_count": 27,
   "id": "a2704db5",
   "metadata": {},
   "outputs": [],
   "source": [
    "url = \"https://api.exchangerate-api.com/v4/latest/USD\" \n"
   ]
  },
  {
   "cell_type": "markdown",
   "id": "2b030b99",
   "metadata": {},
   "source": [
    "# 3.Fetch the Data from the API"
   ]
  },
  {
   "cell_type": "code",
   "execution_count": 28,
   "id": "b23a1981",
   "metadata": {},
   "outputs": [],
   "source": [
    "response = requests.get(url)\n"
   ]
  },
  {
   "cell_type": "markdown",
   "id": "6a8507ac",
   "metadata": {},
   "source": [
    "# 4.Checking the Response Status"
   ]
  },
  {
   "cell_type": "code",
   "execution_count": 29,
   "id": "7f92b864",
   "metadata": {},
   "outputs": [
    {
     "name": "stdout",
     "output_type": "stream",
     "text": [
      "Successfully fetched data\n"
     ]
    }
   ],
   "source": [
    "if response.status_code == 200:\n",
    "    print(\"Successfully fetched data\")\n",
    "else:\n",
    "    print(\"Failed to fetch data\")\n"
   ]
  },
  {
   "cell_type": "markdown",
   "id": "2460be07",
   "metadata": {},
   "source": [
    "# 5.Parse the JSON Data"
   ]
  },
  {
   "cell_type": "code",
   "execution_count": 30,
   "id": "f7ff1a92",
   "metadata": {},
   "outputs": [],
   "source": [
    "data = response.json()\n"
   ]
  },
  {
   "cell_type": "markdown",
   "id": "09fc7d77",
   "metadata": {},
   "source": [
    "# 6.Convert the JSON Data to a Pandas DataFrame"
   ]
  },
  {
   "cell_type": "code",
   "execution_count": 31,
   "id": "4ccb321c",
   "metadata": {},
   "outputs": [],
   "source": [
    "rates = data['rates']\n",
    "df = pd.DataFrame(list(rates.items()), columns=['Currency', 'Rate'])\n"
   ]
  },
  {
   "cell_type": "markdown",
   "id": "ca084dc9",
   "metadata": {},
   "source": [
    "# 7. Display the DataFrame"
   ]
  },
  {
   "cell_type": "code",
   "execution_count": 32,
   "id": "f142f761",
   "metadata": {},
   "outputs": [
    {
     "data": {
      "text/html": [
       "<div>\n",
       "<style scoped>\n",
       "    .dataframe tbody tr th:only-of-type {\n",
       "        vertical-align: middle;\n",
       "    }\n",
       "\n",
       "    .dataframe tbody tr th {\n",
       "        vertical-align: top;\n",
       "    }\n",
       "\n",
       "    .dataframe thead th {\n",
       "        text-align: right;\n",
       "    }\n",
       "</style>\n",
       "<table border=\"1\" class=\"dataframe\">\n",
       "  <thead>\n",
       "    <tr style=\"text-align: right;\">\n",
       "      <th></th>\n",
       "      <th>Currency</th>\n",
       "      <th>Rate</th>\n",
       "    </tr>\n",
       "  </thead>\n",
       "  <tbody>\n",
       "    <tr>\n",
       "      <th>0</th>\n",
       "      <td>USD</td>\n",
       "      <td>1.00</td>\n",
       "    </tr>\n",
       "    <tr>\n",
       "      <th>1</th>\n",
       "      <td>AED</td>\n",
       "      <td>3.67</td>\n",
       "    </tr>\n",
       "    <tr>\n",
       "      <th>2</th>\n",
       "      <td>AFN</td>\n",
       "      <td>70.89</td>\n",
       "    </tr>\n",
       "    <tr>\n",
       "      <th>3</th>\n",
       "      <td>ALL</td>\n",
       "      <td>92.07</td>\n",
       "    </tr>\n",
       "    <tr>\n",
       "      <th>4</th>\n",
       "      <td>AMD</td>\n",
       "      <td>387.93</td>\n",
       "    </tr>\n",
       "  </tbody>\n",
       "</table>\n",
       "</div>"
      ],
      "text/plain": [
       "  Currency    Rate\n",
       "0      USD    1.00\n",
       "1      AED    3.67\n",
       "2      AFN   70.89\n",
       "3      ALL   92.07\n",
       "4      AMD  387.93"
      ]
     },
     "execution_count": 32,
     "metadata": {},
     "output_type": "execute_result"
    }
   ],
   "source": [
    "df.head()\n"
   ]
  },
  {
   "cell_type": "markdown",
   "id": "3c0002bb",
   "metadata": {},
   "source": [
    "# 8.DataFrame Basic Statistics"
   ]
  },
  {
   "cell_type": "code",
   "execution_count": 33,
   "id": "2c2d05c7",
   "metadata": {},
   "outputs": [
    {
     "data": {
      "text/html": [
       "<div>\n",
       "<style scoped>\n",
       "    .dataframe tbody tr th:only-of-type {\n",
       "        vertical-align: middle;\n",
       "    }\n",
       "\n",
       "    .dataframe tbody tr th {\n",
       "        vertical-align: top;\n",
       "    }\n",
       "\n",
       "    .dataframe thead th {\n",
       "        text-align: right;\n",
       "    }\n",
       "</style>\n",
       "<table border=\"1\" class=\"dataframe\">\n",
       "  <thead>\n",
       "    <tr style=\"text-align: right;\">\n",
       "      <th></th>\n",
       "      <th>Rate</th>\n",
       "    </tr>\n",
       "  </thead>\n",
       "  <tbody>\n",
       "    <tr>\n",
       "      <th>count</th>\n",
       "      <td>162.000000</td>\n",
       "    </tr>\n",
       "    <tr>\n",
       "      <th>mean</th>\n",
       "      <td>1925.056735</td>\n",
       "    </tr>\n",
       "    <tr>\n",
       "      <th>std</th>\n",
       "      <td>8526.584783</td>\n",
       "    </tr>\n",
       "    <tr>\n",
       "      <th>min</th>\n",
       "      <td>0.306000</td>\n",
       "    </tr>\n",
       "    <tr>\n",
       "      <th>25%</th>\n",
       "      <td>3.530000</td>\n",
       "    </tr>\n",
       "    <tr>\n",
       "      <th>50%</th>\n",
       "      <td>23.750000</td>\n",
       "    </tr>\n",
       "    <tr>\n",
       "      <th>75%</th>\n",
       "      <td>205.702500</td>\n",
       "    </tr>\n",
       "    <tr>\n",
       "      <th>max</th>\n",
       "      <td>89500.000000</td>\n",
       "    </tr>\n",
       "  </tbody>\n",
       "</table>\n",
       "</div>"
      ],
      "text/plain": [
       "               Rate\n",
       "count    162.000000\n",
       "mean    1925.056735\n",
       "std     8526.584783\n",
       "min        0.306000\n",
       "25%        3.530000\n",
       "50%       23.750000\n",
       "75%      205.702500\n",
       "max    89500.000000"
      ]
     },
     "execution_count": 33,
     "metadata": {},
     "output_type": "execute_result"
    }
   ],
   "source": [
    "df.describe()\n"
   ]
  },
  {
   "cell_type": "markdown",
   "id": "3fdd63e2",
   "metadata": {},
   "source": [
    "# 9.Filtering Data"
   ]
  },
  {
   "cell_type": "code",
   "execution_count": 34,
   "id": "c308c90d",
   "metadata": {},
   "outputs": [
    {
     "data": {
      "text/html": [
       "<div>\n",
       "<style scoped>\n",
       "    .dataframe tbody tr th:only-of-type {\n",
       "        vertical-align: middle;\n",
       "    }\n",
       "\n",
       "    .dataframe tbody tr th {\n",
       "        vertical-align: top;\n",
       "    }\n",
       "\n",
       "    .dataframe thead th {\n",
       "        text-align: right;\n",
       "    }\n",
       "</style>\n",
       "<table border=\"1\" class=\"dataframe\">\n",
       "  <thead>\n",
       "    <tr style=\"text-align: right;\">\n",
       "      <th></th>\n",
       "      <th>Currency</th>\n",
       "      <th>Rate</th>\n",
       "    </tr>\n",
       "  </thead>\n",
       "  <tbody>\n",
       "    <tr>\n",
       "      <th>1</th>\n",
       "      <td>AED</td>\n",
       "      <td>3.67</td>\n",
       "    </tr>\n",
       "    <tr>\n",
       "      <th>2</th>\n",
       "      <td>AFN</td>\n",
       "      <td>70.89</td>\n",
       "    </tr>\n",
       "    <tr>\n",
       "      <th>3</th>\n",
       "      <td>ALL</td>\n",
       "      <td>92.07</td>\n",
       "    </tr>\n",
       "    <tr>\n",
       "      <th>4</th>\n",
       "      <td>AMD</td>\n",
       "      <td>387.93</td>\n",
       "    </tr>\n",
       "    <tr>\n",
       "      <th>5</th>\n",
       "      <td>ANG</td>\n",
       "      <td>1.79</td>\n",
       "    </tr>\n",
       "    <tr>\n",
       "      <th>...</th>\n",
       "      <td>...</td>\n",
       "      <td>...</td>\n",
       "    </tr>\n",
       "    <tr>\n",
       "      <th>157</th>\n",
       "      <td>XPF</td>\n",
       "      <td>109.52</td>\n",
       "    </tr>\n",
       "    <tr>\n",
       "      <th>158</th>\n",
       "      <td>YER</td>\n",
       "      <td>250.15</td>\n",
       "    </tr>\n",
       "    <tr>\n",
       "      <th>159</th>\n",
       "      <td>ZAR</td>\n",
       "      <td>18.07</td>\n",
       "    </tr>\n",
       "    <tr>\n",
       "      <th>160</th>\n",
       "      <td>ZMW</td>\n",
       "      <td>25.91</td>\n",
       "    </tr>\n",
       "    <tr>\n",
       "      <th>161</th>\n",
       "      <td>ZWL</td>\n",
       "      <td>13.76</td>\n",
       "    </tr>\n",
       "  </tbody>\n",
       "</table>\n",
       "<p>143 rows × 2 columns</p>\n",
       "</div>"
      ],
      "text/plain": [
       "    Currency    Rate\n",
       "1        AED    3.67\n",
       "2        AFN   70.89\n",
       "3        ALL   92.07\n",
       "4        AMD  387.93\n",
       "5        ANG    1.79\n",
       "..       ...     ...\n",
       "157      XPF  109.52\n",
       "158      YER  250.15\n",
       "159      ZAR   18.07\n",
       "160      ZMW   25.91\n",
       "161      ZWL   13.76\n",
       "\n",
       "[143 rows x 2 columns]"
      ]
     },
     "execution_count": 34,
     "metadata": {},
     "output_type": "execute_result"
    }
   ],
   "source": [
    "filtered_df = df[df['Rate'] > 1]\n",
    "filtered_df\n"
   ]
  },
  {
   "cell_type": "markdown",
   "id": "d6ed2329",
   "metadata": {},
   "source": [
    "# 10.Sorting Data"
   ]
  },
  {
   "cell_type": "code",
   "execution_count": 35,
   "id": "f42c17a4",
   "metadata": {},
   "outputs": [
    {
     "data": {
      "text/html": [
       "<div>\n",
       "<style scoped>\n",
       "    .dataframe tbody tr th:only-of-type {\n",
       "        vertical-align: middle;\n",
       "    }\n",
       "\n",
       "    .dataframe tbody tr th {\n",
       "        vertical-align: top;\n",
       "    }\n",
       "\n",
       "    .dataframe thead th {\n",
       "        text-align: right;\n",
       "    }\n",
       "</style>\n",
       "<table border=\"1\" class=\"dataframe\">\n",
       "  <thead>\n",
       "    <tr style=\"text-align: right;\">\n",
       "      <th></th>\n",
       "      <th>Currency</th>\n",
       "      <th>Rate</th>\n",
       "    </tr>\n",
       "  </thead>\n",
       "  <tbody>\n",
       "    <tr>\n",
       "      <th>82</th>\n",
       "      <td>LBP</td>\n",
       "      <td>89500.000</td>\n",
       "    </tr>\n",
       "    <tr>\n",
       "      <th>66</th>\n",
       "      <td>IRR</td>\n",
       "      <td>42084.410</td>\n",
       "    </tr>\n",
       "    <tr>\n",
       "      <th>150</th>\n",
       "      <td>VND</td>\n",
       "      <td>25393.810</td>\n",
       "    </tr>\n",
       "    <tr>\n",
       "      <th>128</th>\n",
       "      <td>SLL</td>\n",
       "      <td>23504.720</td>\n",
       "    </tr>\n",
       "    <tr>\n",
       "      <th>81</th>\n",
       "      <td>LAK</td>\n",
       "      <td>21948.370</td>\n",
       "    </tr>\n",
       "    <tr>\n",
       "      <th>...</th>\n",
       "      <td>...</td>\n",
       "      <td>...</td>\n",
       "    </tr>\n",
       "    <tr>\n",
       "      <th>155</th>\n",
       "      <td>XDR</td>\n",
       "      <td>0.754</td>\n",
       "    </tr>\n",
       "    <tr>\n",
       "      <th>70</th>\n",
       "      <td>JOD</td>\n",
       "      <td>0.709</td>\n",
       "    </tr>\n",
       "    <tr>\n",
       "      <th>107</th>\n",
       "      <td>OMR</td>\n",
       "      <td>0.384</td>\n",
       "    </tr>\n",
       "    <tr>\n",
       "      <th>15</th>\n",
       "      <td>BHD</td>\n",
       "      <td>0.376</td>\n",
       "    </tr>\n",
       "    <tr>\n",
       "      <th>78</th>\n",
       "      <td>KWD</td>\n",
       "      <td>0.306</td>\n",
       "    </tr>\n",
       "  </tbody>\n",
       "</table>\n",
       "<p>162 rows × 2 columns</p>\n",
       "</div>"
      ],
      "text/plain": [
       "    Currency       Rate\n",
       "82       LBP  89500.000\n",
       "66       IRR  42084.410\n",
       "150      VND  25393.810\n",
       "128      SLL  23504.720\n",
       "81       LAK  21948.370\n",
       "..       ...        ...\n",
       "155      XDR      0.754\n",
       "70       JOD      0.709\n",
       "107      OMR      0.384\n",
       "15       BHD      0.376\n",
       "78       KWD      0.306\n",
       "\n",
       "[162 rows x 2 columns]"
      ]
     },
     "execution_count": 35,
     "metadata": {},
     "output_type": "execute_result"
    }
   ],
   "source": [
    "sorted_df = df.sort_values(by='Rate', ascending=False)\n",
    "sorted_df\n"
   ]
  },
  {
   "cell_type": "markdown",
   "id": "1bb56b46",
   "metadata": {},
   "source": [
    "# 11.Adding a New Column"
   ]
  },
  {
   "cell_type": "code",
   "execution_count": 36,
   "id": "037e522e",
   "metadata": {},
   "outputs": [
    {
     "data": {
      "text/html": [
       "<div>\n",
       "<style scoped>\n",
       "    .dataframe tbody tr th:only-of-type {\n",
       "        vertical-align: middle;\n",
       "    }\n",
       "\n",
       "    .dataframe tbody tr th {\n",
       "        vertical-align: top;\n",
       "    }\n",
       "\n",
       "    .dataframe thead th {\n",
       "        text-align: right;\n",
       "    }\n",
       "</style>\n",
       "<table border=\"1\" class=\"dataframe\">\n",
       "  <thead>\n",
       "    <tr style=\"text-align: right;\">\n",
       "      <th></th>\n",
       "      <th>Currency</th>\n",
       "      <th>Rate</th>\n",
       "      <th>Rate_in_EUR</th>\n",
       "    </tr>\n",
       "  </thead>\n",
       "  <tbody>\n",
       "    <tr>\n",
       "      <th>0</th>\n",
       "      <td>USD</td>\n",
       "      <td>1.00</td>\n",
       "      <td>0.8500</td>\n",
       "    </tr>\n",
       "    <tr>\n",
       "      <th>1</th>\n",
       "      <td>AED</td>\n",
       "      <td>3.67</td>\n",
       "      <td>3.1195</td>\n",
       "    </tr>\n",
       "    <tr>\n",
       "      <th>2</th>\n",
       "      <td>AFN</td>\n",
       "      <td>70.89</td>\n",
       "      <td>60.2565</td>\n",
       "    </tr>\n",
       "    <tr>\n",
       "      <th>3</th>\n",
       "      <td>ALL</td>\n",
       "      <td>92.07</td>\n",
       "      <td>78.2595</td>\n",
       "    </tr>\n",
       "    <tr>\n",
       "      <th>4</th>\n",
       "      <td>AMD</td>\n",
       "      <td>387.93</td>\n",
       "      <td>329.7405</td>\n",
       "    </tr>\n",
       "    <tr>\n",
       "      <th>...</th>\n",
       "      <td>...</td>\n",
       "      <td>...</td>\n",
       "      <td>...</td>\n",
       "    </tr>\n",
       "    <tr>\n",
       "      <th>157</th>\n",
       "      <td>XPF</td>\n",
       "      <td>109.52</td>\n",
       "      <td>93.0920</td>\n",
       "    </tr>\n",
       "    <tr>\n",
       "      <th>158</th>\n",
       "      <td>YER</td>\n",
       "      <td>250.15</td>\n",
       "      <td>212.6275</td>\n",
       "    </tr>\n",
       "    <tr>\n",
       "      <th>159</th>\n",
       "      <td>ZAR</td>\n",
       "      <td>18.07</td>\n",
       "      <td>15.3595</td>\n",
       "    </tr>\n",
       "    <tr>\n",
       "      <th>160</th>\n",
       "      <td>ZMW</td>\n",
       "      <td>25.91</td>\n",
       "      <td>22.0235</td>\n",
       "    </tr>\n",
       "    <tr>\n",
       "      <th>161</th>\n",
       "      <td>ZWL</td>\n",
       "      <td>13.76</td>\n",
       "      <td>11.6960</td>\n",
       "    </tr>\n",
       "  </tbody>\n",
       "</table>\n",
       "<p>162 rows × 3 columns</p>\n",
       "</div>"
      ],
      "text/plain": [
       "    Currency    Rate  Rate_in_EUR\n",
       "0        USD    1.00       0.8500\n",
       "1        AED    3.67       3.1195\n",
       "2        AFN   70.89      60.2565\n",
       "3        ALL   92.07      78.2595\n",
       "4        AMD  387.93     329.7405\n",
       "..       ...     ...          ...\n",
       "157      XPF  109.52      93.0920\n",
       "158      YER  250.15     212.6275\n",
       "159      ZAR   18.07      15.3595\n",
       "160      ZMW   25.91      22.0235\n",
       "161      ZWL   13.76      11.6960\n",
       "\n",
       "[162 rows x 3 columns]"
      ]
     },
     "execution_count": 36,
     "metadata": {},
     "output_type": "execute_result"
    }
   ],
   "source": [
    "conversion_rate_to_eur = 0.85\n",
    "df['Rate_in_EUR'] = df['Rate'] * conversion_rate_to_eur\n",
    "df\n"
   ]
  }
 ],
 "metadata": {
  "kernelspec": {
   "display_name": "Python 3 (ipykernel)",
   "language": "python",
   "name": "python3"
  },
  "language_info": {
   "codemirror_mode": {
    "name": "ipython",
    "version": 3
   },
   "file_extension": ".py",
   "mimetype": "text/x-python",
   "name": "python",
   "nbconvert_exporter": "python",
   "pygments_lexer": "ipython3",
   "version": "3.11.5"
  }
 },
 "nbformat": 4,
 "nbformat_minor": 5
}
